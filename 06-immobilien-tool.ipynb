{
 "cells": [
  {
   "cell_type": "markdown",
   "metadata": {},
   "source": [
    "## Immobilien Tool\n",
    "\n",
    "### Prämisse\n",
    "\n",
    "Unser Unternehmen hat eine App entwickelt, die es Benutzern ermöglicht, Immobilien auf einfache und intuitive Weise zu suchen. Mit unserem neuesten Tool können Benutzer einfach Text eingeben, der ihre Anforderungen an eine Immobilie beschreibt, und unser Tool wird automatisch die relevanten Filter extrahieren und die Suche durchführen. Wir haben die neueste GPT-Technologie integriert, um sicherzustellen, dass unsere Benutzer die bestmögliche Erfahrung machen und schnell und einfach die Immobilie finden, die ihren Bedürfnissen entspricht. Mit unserem Tool können Sie sicher sein, dass Sie die besten Ergebnisse erhalten und Ihre Suche nach der perfekten Immobilie so einfach wie möglich gestaltet wird.\n",
    "\n",
    "### Entwicklungsplan\n",
    "\n",
    "Wir werden eine kombination aus Nativ Functions und Semantic Functions Plugins nutzen um dieses Ziel zu erreichen\n",
    " "
   ]
  },
  {
   "cell_type": "markdown",
   "metadata": {},
   "source": [
    "## Setup\n",
    "Erstaml das setup"
   ]
  },
  {
   "cell_type": "code",
   "execution_count": 16,
   "metadata": {
    "dotnet_interactive": {
     "language": "csharp"
    },
    "polyglot_notebook": {
     "kernelName": "csharp"
    }
   },
   "outputs": [
    {
     "data": {
      "text/html": [
       "<div><div></div><div></div><div><strong>Installed Packages</strong><ul><li><span>Microsoft.SemanticKernel, 1.0.0-beta1</span></li></ul></div></div>"
      ]
     },
     "metadata": {},
     "output_type": "display_data"
    }
   ],
   "source": [
    "// setup\n",
    "#!import config/Settings.cs\n",
    "#r \"nuget: Microsoft.SemanticKernel, 1.0.0-beta1\"\n",
    "\n",
    "using Microsoft.SemanticKernel;\n",
    "using Microsoft.SemanticKernel.SemanticFunctions;\n",
    "\n",
    "//Create Kernel builder\n",
    "var builder = new KernelBuilder();\n",
    "// Configure AI service credentials used by the kernel\n",
    "var (useAzureOpenAI, model, azureEndpoint, apiKey, orgId) = Settings.LoadFromFile();\n",
    "\n",
    "if (useAzureOpenAI)\n",
    "    builder.WithAzureChatCompletionService(model, azureEndpoint, apiKey);\n",
    "else\n",
    "    builder.WithOpenAIChatCompletionService(model, apiKey, orgId);\n",
    "\n",
    "var kernel = builder.Build();"
   ]
  },
  {
   "cell_type": "markdown",
   "metadata": {},
   "source": [
    "## Semantic Function um eine Anfrage des Kunden anzunehmen"
   ]
  },
  {
   "cell_type": "markdown",
   "metadata": {},
   "source": [
    "Schreiben wir unseren Prompt"
   ]
  },
  {
   "cell_type": "code",
   "execution_count": 39,
   "metadata": {
    "dotnet_interactive": {
     "language": "csharp"
    },
    "polyglot_notebook": {
     "kernelName": "csharp"
    }
   },
   "outputs": [],
   "source": [
    "var prompt = $$$\"\"\"\n",
    "              \n",
    "              Analyze this:\n",
    "              {{$input}}\n",
    "\n",
    "              \"\"\";"
   ]
  },
  {
   "cell_type": "markdown",
   "metadata": {},
   "source": [
    "Jetzt sollten wir noch unser config für die Semantic Function erstellen"
   ]
  },
  {
   "cell_type": "code",
   "execution_count": 40,
   "metadata": {
    "dotnet_interactive": {
     "language": "csharp"
    },
    "polyglot_notebook": {
     "kernelName": "csharp"
    }
   },
   "outputs": [],
   "source": [
    "var promptConfig = new PromptTemplateConfig\n",
    "{\n",
    "    \n",
    "};"
   ]
  },
  {
   "cell_type": "markdown",
   "metadata": {},
   "source": [
    "Als nächstes wollen wir unsere Semantic Function kompilieren, sodass wir sie ausführen können"
   ]
  },
  {
   "cell_type": "code",
   "execution_count": 41,
   "metadata": {
    "dotnet_interactive": {
     "language": "csharp"
    },
    "polyglot_notebook": {
     "kernelName": "csharp"
    }
   },
   "outputs": [],
   "source": [
    "// create PromptTemplate\n",
    "var promptTemplate = new PromptTemplate(prompt, promptConfig, kernel);\n",
    "\n",
    "// create SemanticFunctionConfig\n",
    "var functionConfig = new SemanticFunctionConfig(promptConfig, promptTemplate);\n",
    "\n",
    "// register SemanticFunction\n",
    "var extractInformation = kernel.RegisterSemanticFunction(\"ImmobilienPlugin\", \"ExtractInformation\", functionConfig);\n",
    "\n"
   ]
  },
  {
   "cell_type": "markdown",
   "metadata": {},
   "source": [
    "Ok, nun wollen wir die Function ausführen und uns das ergebnis anzeigen lassen"
   ]
  },
  {
   "cell_type": "code",
   "execution_count": 43,
   "metadata": {
    "dotnet_interactive": {
     "language": "csharp"
    },
    "polyglot_notebook": {
     "kernelName": "csharp"
    }
   },
   "outputs": [
    {
     "name": "stdout",
     "output_type": "stream",
     "text": [
      "{\n",
      "  \"roomsFrom\": 3,\n",
      "  \"roomsTo\": 3,\n",
      "  \"type\": \"neubau\",\n",
      "  \"selectedDistrcits\": [\"Mitte\", \"Friedrichshain\", \"Kreuzberg\"],\n",
      "  \"additionalRooms\": [\"Kitchen\", \"Dining room\", \"Bathroom\", \"Guest bathroom\"]\n",
      "}\r\n"
     ]
    }
   ],
   "source": [
    "var userRequest = \"Ich suche eine neubau Wohnung, 3ZKDB und einem Gästebad, im Herzen Berlins.\";\n",
    "\n",
    "var result = await kernel.RunAsync(userRequest, extractInformation);\n",
    "\n",
    "Console.WriteLine(result.GetValue<string>());"
   ]
  }
 ],
 "metadata": {
  "kernelspec": {
   "display_name": ".NET (C#)",
   "language": "C#",
   "name": ".net-csharp"
  },
  "language_info": {
   "name": "polyglot-notebook"
  },
  "polyglot_notebook": {
   "kernelInfo": {
    "defaultKernelName": "csharp",
    "items": [
     {
      "aliases": [],
      "name": "csharp"
     }
    ]
   }
  }
 },
 "nbformat": 4,
 "nbformat_minor": 2
}
