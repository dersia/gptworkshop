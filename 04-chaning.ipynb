{
 "cells": [
  {
   "attachments": {},
   "cell_type": "markdown",
   "metadata": {},
   "source": [
    "## Chaning Functions\n",
    "Native und Semantic Functions können per chaning aneinander gehangen werden."
   ]
  },
  {
   "cell_type": "code",
   "execution_count": 1,
   "metadata": {
    "dotnet_interactive": {
     "language": "csharp"
    },
    "polyglot_notebook": {
     "kernelName": "csharp"
    }
   },
   "outputs": [
    {
     "data": {
      "text/html": [
       "<div><div></div><div></div><div><strong>Installed Packages</strong><ul><li><span>Microsoft.SemanticKernel, 1.0.0-beta1</span></li></ul></div></div>"
      ]
     },
     "metadata": {},
     "output_type": "display_data"
    }
   ],
   "source": [
    "#!import plugins/DevOpenspacePlugin/DevOpenSpacePlugin.cs\n",
    "using Microsoft.SemanticKernel.Plugins.Core;\n",
    "\n",
    "var devopenspaceplugin = kernel.ImportFunctions(new DevOpenSpacePlugin(), \"DevOpenspacePlugin\");\n",
    "var conversationSummaryPlugin = kernel.ImportFunctions(new ConversationSummaryPlugin(kernel), \"ConversationSummaryPlugin\");\n",
    "\n",
    "var pluginsDirectory = Path.Combine(System.IO.Directory.GetCurrentDirectory(), \"plugins\");\n",
    "var unterhaltungsPluginFunctions = kernel.ImportSemanticFunctionsFromDirectory(pluginsDirectory, \"UnterhaltungsPlugin\");\n",
    "\n",
    "var result = await kernel.RunAsync(\"\", devopenspaceplugin[\"GetUsersTwitterHandle\"], devopenspaceplugin[\"GetUsersCount\"], unterhaltungsPluginFunctions[\"Mecker\"]);\n",
    "\n",
    "// Antwort ausgeben\n",
    "Console.WriteLine(result.GetValue<string>());"
   ]
  }
 ],
 "metadata": {
  "kernelspec": {
   "display_name": ".NET (C#)",
   "language": "C#",
   "name": ".net-csharp"
  },
  "language_info": {
   "name": "polyglot-notebook"
  },
  "polyglot_notebook": {
   "kernelInfo": {
    "defaultKernelName": "csharp",
    "items": [
     {
      "aliases": [],
      "name": "csharp"
     }
    ]
   }
  }
 },
 "nbformat": 4,
 "nbformat_minor": 2
}
