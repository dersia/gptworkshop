{
 "cells": [
  {
   "cell_type": "code",
   "execution_count": 2,
   "metadata": {
    "dotnet_interactive": {
     "language": "csharp"
    },
    "polyglot_notebook": {
     "kernelName": "csharp"
    }
   },
   "outputs": [
    {
     "data": {
      "text/html": [
       "<div><div></div><div></div><div><strong>Installed Packages</strong><ul><li><span>Microsoft.SemanticKernel, 1.1.0</span></li></ul></div></div>"
      ]
     },
     "metadata": {},
     "output_type": "display_data"
    }
   ],
   "source": [
    "// setup\n",
    "#!import config/Settings.cs\n",
    "#r \"nuget: Microsoft.SemanticKernel, 1.1.0\"\n",
    "\n",
    "using Microsoft.SemanticKernel;\n",
    "\n",
    "//Create Kernel builder\n",
    "var builder = Microsoft.SemanticKernel.Kernel.CreateBuilder();\n",
    "// Configure AI service credentials used by the kernel\n",
    "// Configure AI service credentials used by the kernel\n",
    "var (useAzureOpenAI, model, azureEndpoint, apiKey, orgId) = Settings.LoadFromFile();\n",
    "\n",
    "if (useAzureOpenAI)\n",
    "    builder.AddAzureOpenAIChatCompletion(model, azureEndpoint, apiKey);\n",
    "else\n",
    "    builder.AddOpenAIChatCompletion(model, apiKey, orgId);\n",
    "\n",
    "Microsoft.SemanticKernel.Kernel kernel = builder.Build();"
   ]
  },
  {
   "attachments": {},
   "cell_type": "markdown",
   "metadata": {},
   "source": [
    "# Plugins"
   ]
  },
  {
   "attachments": {},
   "cell_type": "markdown",
   "metadata": {},
   "source": [
    "Mit Plugins erweitern wir Semantic Kernel um die möglichkeit GPT als SDK für unsere Anwendung zu nutzen.\n",
    "\n",
    "Plugins beinhalten eine oder mehrere Funktionen um bestimmte Aufgaben zu erledigen. Als Teil unserer Pipeline, können wir dann Plugins \"aneinander reihen\" um unsere gesamt Lösung zu schaffen.\n",
    "\n",
    "## Funktionen\n",
    "\n",
    "Semantic Kernel unterscheiden zwischen 2 verschiedenen Arten von Funktionen.\n",
    "* Semantic Functions\n",
    "* Native Functions\n",
    "\n",
    "## Semantic Functions\n",
    "Semantic Functions sind Funktionen die an GPT geschickt werden um z.B. Text zu analysieren oder zu extrahieren.\n",
    "Semantic Functions bestehen aus 2 Komponenten, einer Config und einem Prompt\n",
    "\n",
    "## Plugins \n",
    "Plugins können anhand von OpenApi Specs, Ordnern mit semantischen Funktionen oder für native Funktionen direkt im Code importiert werden"
   ]
  },
  {
   "cell_type": "markdown",
   "metadata": {},
   "source": [
    "**SKPrompt**\n",
    "\n",
    "Wie der Name schon suggeriert ist diese Komponente nichts weiter als ein Prompt"
   ]
  },
  {
   "cell_type": "code",
   "execution_count": 3,
   "metadata": {
    "dotnet_interactive": {
     "language": "csharp"
    },
    "polyglot_notebook": {
     "kernelName": "csharp"
    }
   },
   "outputs": [],
   "source": [
    "var prompt = $$$\"\"\"\n",
    "                Du bist eine KI die den Usern mit ihren Anfragen hilft.\n",
    "                Du sprichst lediglich Deutsch und Esperanto.\n",
    "                Wenn du mal nicht weiter weißt oder dir das wissen fehlt eine frage zu beantworten, dann meckere über den Kapitalismus und wie er die menschen verdirbt.\n",
    "                \n",
    "                {{$input}}\n",
    "                \"\"\";"
   ]
  },
  {
   "cell_type": "markdown",
   "metadata": {},
   "source": [
    "**Config**\n",
    "\n",
    "Die Config beschreibt die Funktion und Parameter einer Semantic Function"
   ]
  },
  {
   "cell_type": "code",
   "execution_count": 4,
   "metadata": {
    "dotnet_interactive": {
     "language": "csharp"
    },
    "polyglot_notebook": {
     "kernelName": "csharp"
    }
   },
   "outputs": [],
   "source": [
    "var promptConfig = new PromptTemplateConfig\n",
    "{\n",
    "    InputVariables = {\n",
    "        new Microsoft.SemanticKernel.InputVariable {\n",
    "                Name = \"input\",\n",
    "                Description = \"Anliegen des Nutzers\",\n",
    "                Default = \"\"\n",
    "            }\n",
    "    },\n",
    "    Description = \"Hilft nutzer bei deren Anliegen\",\n",
    "};"
   ]
  },
  {
   "cell_type": "markdown",
   "metadata": {},
   "source": [
    "**Semantic Functions serialisieren**\n",
    "\n",
    "Semantic Functions müssen aber nicht im Code geschrieben werden, wir können sie serialisieren und in dateien speichern.\n",
    "\n",
    "Die Dateistruktur dabei sieht folgender maßen aus:\n",
    "\n",
    "```text\n",
    "-- PluginName\n",
    "  -- FunktionName\n",
    "    -- config.json\n",
    "    -- skprompt.txt\n",
    "```\n",
    "\n",
    "Unsere Config von oben sieht dann so aus:\n",
    "**config.json**\n",
    "```json\n",
    "{\n",
    "  \"description\": \"Hilft nutzer bei deren Anliegen\",\n",
    "  \"input_variables\": [\n",
    "    {\n",
    "      \"name\": \"input\",\n",
    "      \"description\": \"Joke subject\",\n",
    "      \"default\": \"\"\n",
    "    },\n",
    "    {\n",
    "      \"name\": \"style\",\n",
    "      \"description\": \"Give a hint about the desired joke style\",\n",
    "      \"default\": \"\"\n",
    "    }\n",
    "  ]\n",
    "}\n",
    "```\n"
   ]
  },
  {
   "attachments": {},
   "cell_type": "markdown",
   "metadata": {},
   "source": [
    "Hier ist ein Beispiel für eine inline Semantic Function, welche einen TLDR for einen Wiki-Text erstellt.\n",
    "\n",
    "\n"
   ]
  },
  {
   "cell_type": "code",
   "execution_count": 10,
   "metadata": {
    "dotnet_interactive": {
     "language": "csharp"
    },
    "polyglot_notebook": {
     "kernelName": "csharp"
    }
   },
   "outputs": [],
   "source": [
    "string textToSummarize = \"\"\"\n",
    "                   Microsoft Build (often stylised as //build/) is an annual conference event held by Microsoft,\n",
    "                   aimed at software engineers and web developers using Windows, Microsoft Azure and other Microsoft technologies.\n",
    "                   First held in 2011, it serves as a successor for Microsoft's previous developer events,\n",
    "                   the Professional Developers Conference (an infrequent event which covered development of software for the Windows operating system)\n",
    "                   and MIX (which covered web development centering on Microsoft technology such as Silverlight and ASP.net).\n",
    "                   The attendee price was (US)$2,195 in 2016, up from $2,095 in 2015. It sold out quickly,\n",
    "                   within one minute of the registration site opening in 2016.\n",
    "\n",
    "                   The event has been held at a large convention center, or purpose-built meeting space on the Microsoft Campus.\n",
    "                   The Keynote on the first day has been led by the Microsoft CEO addressing the press and developers.\n",
    "                   It has been the place to announce the general technology milestones for developers.\n",
    "                   There are breakout sessions conducted by engineers and program managers, most often Microsoft employees representing their particular initiatives.\n",
    "                   The keynote on the second day often includes deeper dives into technology. Thousands of developers and technologists from all over the world attend.\n",
    "\n",
    "                   The 2023 conference was announced on March 14, 2023. A free online part was held from May 23 to 24,\n",
    "                   and an in-person part was held in Seattle from May 23 to 25 with workshops on May 22. Tickets for the in-person event are $1525 and workshops are $225.\n",
    "\n",
    "                   Microsoft Build 2023 focused heavily on artificial intelligence and its integration across Microsoft's products and services.\n",
    "\n",
    "                   Microsoft introduced its AI chatbot, Copilot, to Windows 11. Copilot is already integrated into Edge, Office apps, and GitHub.\n",
    "                   It will be available from June, offering users a range of assistance, from simple to complex tasks.\n",
    "                   Microsoft announced the integration of Bing with OpenAI's ChatGPT, making Bing the default search engine for ChatGPT.\n",
    "                   This functionality is first available for ChatGPT Plus users and will be enabled for all free ChatGPT users later.\n",
    "                   In addition to AI-focused announcements, Microsoft introduced updates to Windows 11, Microsoft 365, Edge, and Teams.\n",
    "                   The company also expanded its plugin platform in collaboration with OpenAI, allowing developers to submit their AI experiences to the Microsoft Store on Windows\n",
    "                   \"\"\";"
   ]
  },
  {
   "cell_type": "code",
   "execution_count": 11,
   "metadata": {
    "dotnet_interactive": {
     "language": "csharp"
    },
    "polyglot_notebook": {
     "kernelName": "csharp"
    },
    "tags": []
   },
   "outputs": [
    {
     "name": "stdout",
     "output_type": "stream",
     "text": [
      "Microsoft Build 2023: AI emphasis.\r\n"
     ]
    }
   ],
   "source": [
    "string skPrompt = @\"\n",
    "{{$input}}\n",
    "\n",
    "Give me the TLDR in 5 words.\n",
    "\";\n",
    "\n",
    "var function = kernel.CreateFunctionFromPrompt(skPrompt);\n",
    "\n",
    "var summary = await function.InvokeAsync(kernel, new() { [\"input\"] = textToSummarize });\n",
    "\n",
    "Console.WriteLine(summary);\n"
   ]
  }
 ],
 "metadata": {
  "kernelspec": {
   "display_name": ".NET (C#)",
   "language": "C#",
   "name": ".net-csharp"
  },
  "language_info": {
   "name": "polyglot-notebook"
  },
  "polyglot_notebook": {
   "kernelInfo": {
    "defaultKernelName": "csharp",
    "items": [
     {
      "aliases": [],
      "name": "csharp"
     }
    ]
   }
  }
 },
 "nbformat": 4,
 "nbformat_minor": 2
}
