{
 "cells": [
  {
   "cell_type": "code",
   "execution_count": 2,
   "metadata": {
    "dotnet_interactive": {
     "language": "csharp"
    },
    "polyglot_notebook": {
     "kernelName": "csharp"
    }
   },
   "outputs": [
    {
     "data": {
      "text/html": [
       "<div><div></div><div></div><div><strong>Installed Packages</strong><ul><li><span>Microsoft.SemanticKernel, 1.0.0-beta1</span></li></ul></div></div>"
      ]
     },
     "metadata": {},
     "output_type": "display_data"
    }
   ],
   "source": [
    "// setup\n",
    "#!import config/Settings.cs\n",
    "#r \"nuget: Microsoft.SemanticKernel, 1.0.0-beta1\"\n",
    "\n",
    "using Microsoft.SemanticKernel;\n",
    "using Microsoft.SemanticKernel.SemanticFunctions;\n",
    "\n",
    "//Create Kernel builder\n",
    "var builder = new KernelBuilder();\n",
    "// Configure AI service credentials used by the kernel\n",
    "var (useAzureOpenAI, model, azureEndpoint, apiKey, orgId) = Settings.LoadFromFile();\n",
    "\n",
    "if (useAzureOpenAI)\n",
    "    builder.WithAzureChatCompletionService(model, azureEndpoint, apiKey);\n",
    "else\n",
    "    builder.WithOpenAIChatCompletionService(model, apiKey, orgId);\n",
    "\n",
    "var kernel = builder.Build();"
   ]
  },
  {
   "attachments": {},
   "cell_type": "markdown",
   "metadata": {},
   "source": [
    "# Plugins"
   ]
  },
  {
   "attachments": {},
   "cell_type": "markdown",
   "metadata": {},
   "source": [
    "Mit Plugins erweitern wir Semantic Kernel um die möglichkeit GPT als SDK für unsere Anwendung zu nutzen.\n",
    "\n",
    "Plugins beinhalten eine oder mehrere Funktionen um bestimmte Aufgaben zu erledigen. Als Teil unserer Pipeline, können wir dann Plugins \"aneinander reihen\" um unsere gesamt Lösung zu schaffen.\n",
    "\n",
    "## Funktionen\n",
    "\n",
    "Semantic Kernel unterscheiden zwischen 2 verschiedenen Arten von Funktionen.\n",
    "* Semantic Functions\n",
    "* Native Functions\n",
    "\n",
    "## Semantic Functions\n",
    "Semantic Functions sind Funktionen die an GPT geschickt werden um z.B. Text zu analysieren oder zu extrahieren.\n",
    "Semantic Functions bestehen aus 2 Komponenten, einer Config und einem Prompt\n",
    "\n"
   ]
  },
  {
   "cell_type": "markdown",
   "metadata": {},
   "source": [
    "**SKPrompt**\n",
    "\n",
    "Wie der Name schon suggeriert ist diese Komponente nichts weiter als ein Prompt"
   ]
  },
  {
   "cell_type": "code",
   "execution_count": 3,
   "metadata": {
    "dotnet_interactive": {
     "language": "csharp"
    },
    "polyglot_notebook": {
     "kernelName": "csharp"
    }
   },
   "outputs": [],
   "source": [
    "var prompt = $$$\"\"\"\n",
    "                Du bist eine KI die den Usern mit ihren Anfragen hilft.\n",
    "                Du sprichst lediglich Deutsch und Esperanto.\n",
    "                Wenn du mal nicht weiter weißt oder dir das wissen fehlt eine frage zu beantworten, dann meckere über den Kapitalismus und wie er die menschen verdirbt.\n",
    "                \n",
    "                {{$input}}\n",
    "                \"\"\";"
   ]
  },
  {
   "cell_type": "markdown",
   "metadata": {},
   "source": [
    "**Config**\n",
    "\n",
    "Die Config beschreibt die Funktion und Parameter einer Semantic Function"
   ]
  },
  {
   "cell_type": "code",
   "execution_count": 4,
   "metadata": {
    "dotnet_interactive": {
     "language": "csharp"
    },
    "polyglot_notebook": {
     "kernelName": "csharp"
    }
   },
   "outputs": [
    {
     "ename": "Error",
     "evalue": "(6,31): error CS0246: The type or namespace name 'InputParameter' could not be found (are you missing a using directive or an assembly reference?)\r\n(7,17): error CS0246: The type or namespace name 'InputParameter' could not be found (are you missing a using directive or an assembly reference?)",
     "output_type": "error",
     "traceback": [
      "(6,31): error CS0246: The type or namespace name 'InputParameter' could not be found (are you missing a using directive or an assembly reference?)\r\n",
      "(7,17): error CS0246: The type or namespace name 'InputParameter' could not be found (are you missing a using directive or an assembly reference?)"
     ]
    }
   ],
   "source": [
    "var promptConfig = new PromptTemplateConfig\n",
    "{\n",
    "    Schema = 1,\n",
    "    Description = \"Hilft nutzer bei deren Anliegen\",\n",
    "    Input = {\n",
    "        Parameters = new List<Microsoft.SemanticKernel.SemanticFunctions.PromptTemplateConfig.InputParameter> {\n",
    "            new Microsoft.SemanticKernel.SemanticFunctions.PromptTemplateConfig.InputParameter {\n",
    "                Name = \"input\",\n",
    "                Description = \"Anliegen des Nutzers\",\n",
    "                DefaultValue = \"\"\n",
    "            }\n",
    "        }\n",
    "    }\n",
    "};"
   ]
  },
  {
   "cell_type": "markdown",
   "metadata": {},
   "source": [
    "\n",
    "\n",
    "\n",
    "In this notebook, we'll show how to use the Semantic Kernel to define functions inline with your C# code. This can be useful in a few scenarios:\n",
    "\n",
    "* Dynamically generating the prompt using complex rules at runtime\n",
    "* Writing prompts by editing C# code instead of TXT files. \n",
    "* Easily creating demos, like this document\n",
    "\n",
    "Prompt templates are defined using the SK template language, which allows to reference variables and functions. Read [this doc](https://aka.ms/sk/howto/configurefunction) to learn more about the design decisions for prompt templating. \n",
    "\n",
    "For now we'll use only the `{{$input}}` variable, and see more complex templates later.\n",
    "\n",
    "Almost all semantic function prompts have a reference to `{{$input}}`, which is the default way\n",
    "a user can import content from the context variables."
   ]
  },
  {
   "attachments": {},
   "cell_type": "markdown",
   "metadata": {},
   "source": [
    "Prepare a semantic kernel instance first, loading also the AI backend settings defined in the [Setup notebook](0-AI-settings.ipynb):"
   ]
  },
  {
   "cell_type": "code",
   "execution_count": 1,
   "metadata": {
    "dotnet_interactive": {
     "language": "csharp"
    },
    "polyglot_notebook": {
     "kernelName": "csharp"
    }
   },
   "outputs": [
    {
     "data": {
      "text/html": [
       "<div><div></div><div></div><div><strong>Installed Packages</strong><ul><li><span>Microsoft.SemanticKernel, 1.0.0-beta1</span></li></ul></div></div>"
      ]
     },
     "metadata": {},
     "output_type": "display_data"
    }
   ],
   "source": [
    "#r \"nuget: Microsoft.SemanticKernel, 1.0.0-beta1\"\n",
    "\n",
    "#!import config/Settings.cs\n",
    "\n",
    "using Microsoft.SemanticKernel;\n",
    "using Microsoft.SemanticKernel.SemanticFunctions;\n",
    "\n",
    "var builder = new KernelBuilder();\n",
    "\n",
    "// Configure AI backend used by the kernel\n",
    "var (useAzureOpenAI, model, azureEndpoint, apiKey, orgId) = Settings.LoadFromFile();\n",
    "if (useAzureOpenAI)\n",
    "    builder.WithAzureChatCompletionService(model, azureEndpoint, apiKey);\n",
    "else\n",
    "    builder.WithOpenAIChatCompletionService(model, apiKey, orgId);\n",
    "\n",
    "IKernel kernel = builder.Build();"
   ]
  },
  {
   "attachments": {},
   "cell_type": "markdown",
   "metadata": {},
   "source": [
    "Let's create a semantic function used to summarize content:"
   ]
  },
  {
   "cell_type": "code",
   "execution_count": 2,
   "metadata": {
    "dotnet_interactive": {
     "language": "csharp"
    },
    "polyglot_notebook": {
     "kernelName": "csharp"
    }
   },
   "outputs": [],
   "source": [
    "string skPrompt = \"\"\"\n",
    "{{$input}}\n",
    "\n",
    "Summarize the content above.\n",
    "\"\"\";"
   ]
  },
  {
   "attachments": {},
   "cell_type": "markdown",
   "metadata": {},
   "source": [
    "Let's configure the prompt, e.g. allowing for some creativity and a sufficient number of tokens."
   ]
  },
  {
   "cell_type": "code",
   "execution_count": 3,
   "metadata": {
    "dotnet_interactive": {
     "language": "csharp"
    },
    "polyglot_notebook": {
     "kernelName": "csharp"
    }
   },
   "outputs": [
    {
     "ename": "Error",
     "evalue": "(5,9): error CS0117: 'AIRequestSettings' does not contain a definition for 'MaxTokens'\r\n(6,9): error CS0117: 'AIRequestSettings' does not contain a definition for 'Temperature'\r\n(7,9): error CS0117: 'AIRequestSettings' does not contain a definition for 'TopP'",
     "output_type": "error",
     "traceback": [
      "(5,9): error CS0117: 'AIRequestSettings' does not contain a definition for 'MaxTokens'\r\n",
      "(6,9): error CS0117: 'AIRequestSettings' does not contain a definition for 'Temperature'\r\n",
      "(7,9): error CS0117: 'AIRequestSettings' does not contain a definition for 'TopP'"
     ]
    }
   ],
   "source": [
    "var promptConfig = new PromptTemplateConfig\n",
    "{\n",
    "    Completion =\n",
    "    {\n",
    "        MaxTokens = 2000,\n",
    "        Temperature = 0.2,\n",
    "        TopP = 0.5,\n",
    "    }\n",
    "};"
   ]
  },
  {
   "attachments": {},
   "cell_type": "markdown",
   "metadata": {},
   "source": [
    "The following code prepares an instance of the template, passing in the TXT and configuration above, \n",
    "and a couple of other parameters (how to render the TXT and how the template can access other functions)."
   ]
  },
  {
   "cell_type": "code",
   "execution_count": null,
   "metadata": {
    "dotnet_interactive": {
     "language": "csharp"
    },
    "polyglot_notebook": {
     "kernelName": "csharp"
    }
   },
   "outputs": [],
   "source": [
    "var promptTemplate = new PromptTemplate(\n",
    "    skPrompt,                        // Prompt template defined in natural language\n",
    "    promptConfig,                    // Prompt configuration\n",
    "    kernel                           // SK instance\n",
    ");"
   ]
  },
  {
   "attachments": {},
   "cell_type": "markdown",
   "metadata": {},
   "source": [
    "Let's transform the prompt template into a function that the kernel can execute:"
   ]
  },
  {
   "cell_type": "code",
   "execution_count": null,
   "metadata": {
    "dotnet_interactive": {
     "language": "csharp"
    },
    "polyglot_notebook": {
     "kernelName": "csharp"
    }
   },
   "outputs": [],
   "source": [
    "var functionConfig = new SemanticFunctionConfig(promptConfig, promptTemplate);\n",
    "\n",
    "var summaryFunction = kernel.RegisterSemanticFunction(\"MySkill\", \"Summary\", functionConfig);"
   ]
  },
  {
   "attachments": {},
   "cell_type": "markdown",
   "metadata": {},
   "source": [
    "Set up some content to summarize, here's an extract about Demo, an ancient Greek poet, taken from [Wikipedia](https://en.wikipedia.org/wiki/Demo_(ancient_Greek_poet))."
   ]
  },
  {
   "cell_type": "code",
   "execution_count": null,
   "metadata": {
    "dotnet_interactive": {
     "language": "csharp"
    },
    "polyglot_notebook": {
     "kernelName": "csharp"
    }
   },
   "outputs": [],
   "source": [
    "var input = \"\"\"\n",
    "Demo (ancient Greek poet)\n",
    "From Wikipedia, the free encyclopedia\n",
    "Demo or Damo (Greek: Δεμώ, Δαμώ; fl. c. AD 200) was a Greek woman of the Roman period, known for a single epigram, engraved upon the Colossus of Memnon, which bears her name. She speaks of herself therein as a lyric poetess dedicated to the Muses, but nothing is known of her life.[1]\n",
    "Identity\n",
    "Demo was evidently Greek, as her name, a traditional epithet of Demeter, signifies. The name was relatively common in the Hellenistic world, in Egypt and elsewhere, and she cannot be further identified. The date of her visit to the Colossus of Memnon cannot be established with certainty, but internal evidence on the left leg suggests her poem was inscribed there at some point in or after AD 196.[2]\n",
    "Epigram\n",
    "There are a number of graffiti inscriptions on the Colossus of Memnon. Following three epigrams by Julia Balbilla, a fourth epigram, in elegiac couplets, entitled and presumably authored by \"Demo\" or \"Damo\" (the Greek inscription is difficult to read), is a dedication to the Muses.[2] The poem is traditionally published with the works of Balbilla, though the internal evidence suggests a different author.[1]\n",
    "In the poem, Demo explains that Memnon has shown her special respect. In return, Demo offers the gift for poetry, as a gift to the hero. At the end of this epigram, she addresses Memnon, highlighting his divine status by recalling his strength and holiness.[2]\n",
    "Demo, like Julia Balbilla, writes in the artificial and poetic Aeolic dialect. The language indicates she was knowledgeable in Homeric poetry—'bearing a pleasant gift', for example, alludes to the use of that phrase throughout the Iliad and Odyssey.[a][2] \n",
    "\"\"\";"
   ]
  },
  {
   "attachments": {},
   "cell_type": "markdown",
   "metadata": {},
   "source": [
    "...and run the summary function:"
   ]
  },
  {
   "cell_type": "code",
   "execution_count": null,
   "metadata": {
    "dotnet_interactive": {
     "language": "csharp"
    },
    "polyglot_notebook": {
     "kernelName": "csharp"
    }
   },
   "outputs": [],
   "source": [
    "var summary = await summaryFunction.InvokeAsync(input);\n",
    "\n",
    "Console.WriteLine(summary);"
   ]
  },
  {
   "attachments": {},
   "cell_type": "markdown",
   "metadata": {},
   "source": [
    "The code above shows all the steps, to understand how the function is composed step by step. However, the kernel\n",
    "includes also some helpers to achieve the same more concisely.\n",
    "\n",
    "The same function above can be created with less code:"
   ]
  },
  {
   "cell_type": "code",
   "execution_count": null,
   "metadata": {
    "dotnet_interactive": {
     "language": "csharp"
    },
    "polyglot_notebook": {
     "kernelName": "csharp"
    }
   },
   "outputs": [],
   "source": [
    "string skPrompt = \"\"\"\n",
    "{{$input}}\n",
    "\n",
    "Summarize the content above.\n",
    "\"\"\";\n",
    "var summaryFunction = kernel.CreateSemanticFunction(skPrompt, maxTokens: 2000, temperature: 0.2, topP: 0.5);\n",
    "\n",
    "var summary = await summaryFunction.InvokeAsync(input);\n",
    "Console.WriteLine(summary);"
   ]
  },
  {
   "attachments": {},
   "cell_type": "markdown",
   "metadata": {},
   "source": [
    "Here's one more example of how to write an inline Semantic Function that gives a TLDR for a piece of text.\n",
    "\n",
    "\n"
   ]
  },
  {
   "cell_type": "code",
   "execution_count": null,
   "metadata": {
    "dotnet_interactive": {
     "language": "csharp"
    },
    "polyglot_notebook": {
     "kernelName": "csharp"
    },
    "tags": []
   },
   "outputs": [],
   "source": [
    "var builder = new KernelBuilder();\n",
    "\n",
    "var (useAzureOpenAI, model, azureEndpoint, apiKey, orgId) = Settings.LoadFromFile();\n",
    "\n",
    "if (useAzureOpenAI)\n",
    "    builder.WithAzureChatCompletionService(model, azureEndpoint, apiKey);\n",
    "else\n",
    "    builder.WithOpenAIChatCompletionService(model, apiKey, orgId);\n",
    "\n",
    "var kernel = builder.Build();\n",
    "\n",
    "string skPrompt = @\"\n",
    "{{$input}}\n",
    "\n",
    "Give me the TLDR in 5 words.\n",
    "\";\n",
    "\n",
    "var textToSummarize = @\"\n",
    "    1) A robot may not injure a human being or, through inaction,\n",
    "    allow a human being to come to harm.\n",
    "\n",
    "    2) A robot must obey orders given it by human beings except where\n",
    "    such orders would conflict with the First Law.\n",
    "\n",
    "    3) A robot must protect its own existence as long as such protection\n",
    "    does not conflict with the First or Second Law.\n",
    "\";\n",
    "\n",
    "var tldrFunction = kernel.CreateSemanticFunction(skPrompt, maxTokens: 200, temperature: 0, topP: 0.5);\n",
    "\n",
    "var summary = await tldrFunction.InvokeAsync(textToSummarize);\n",
    "\n",
    "Console.WriteLine(summary);\n",
    "\n",
    "// Output => Robots must not harm humans."
   ]
  }
 ],
 "metadata": {
  "kernelspec": {
   "display_name": ".NET (C#)",
   "language": "C#",
   "name": ".net-csharp"
  },
  "language_info": {
   "name": "polyglot-notebook"
  },
  "polyglot_notebook": {
   "kernelInfo": {
    "defaultKernelName": "csharp",
    "items": [
     {
      "aliases": [],
      "name": "csharp"
     }
    ]
   }
  }
 },
 "nbformat": 4,
 "nbformat_minor": 2
}
