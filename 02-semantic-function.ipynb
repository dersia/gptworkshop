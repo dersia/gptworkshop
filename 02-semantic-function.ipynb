{
 "cells": [
  {
   "attachments": {},
   "cell_type": "markdown",
   "metadata": {},
   "source": [
    "## Semantic Functions\n",
    "Semantic Functions sind Funktionen die an GPT geschickt werden um z.B. Text zu analysieren oder zu extrahieren.\n",
    "\n",
    "Semantic Functions bestehen aus 2 Komponenten, einer Config und einem Prompt"
   ]
  },
  {
   "cell_type": "code",
   "execution_count": 1,
   "metadata": {
    "dotnet_interactive": {
     "language": "csharp"
    },
    "polyglot_notebook": {
     "kernelName": "csharp"
    }
   },
   "outputs": [
    {
     "data": {
      "text/html": [
       "<div><div></div><div></div><div><strong>Installed Packages</strong><ul><li><span>Microsoft.SemanticKernel, 1.1.0</span></li><li><span>Microsoft.SemanticKernel.Plugins.Core, 1.1.0-alpha</span></li></ul></div></div>"
      ]
     },
     "metadata": {},
     "output_type": "display_data"
    }
   ],
   "source": [
    "// setup\n",
    "#!import config/Settings.cs\n",
    "#r \"nuget: Microsoft.SemanticKernel, 1.1.0\"\n",
    "#r \"nuget: Microsoft.SemanticKernel.Plugins.Core, 1.1.0-alpha\"\n",
    "\n",
    "using Microsoft.SemanticKernel;\n",
    "\n",
    "//Create Kernel builder\n",
    "var builder = Microsoft.SemanticKernel.Kernel.CreateBuilder();\n",
    "// Configure AI service credentials used by the kernel\n",
    "// Configure AI service credentials used by the kernel\n",
    "var (useAzureOpenAI, model, azureEndpoint, apiKey, orgId) = Settings.LoadFromFile();\n",
    "\n",
    "if (useAzureOpenAI)\n",
    "    builder.AddAzureOpenAIChatCompletion(model, azureEndpoint, apiKey);\n",
    "else\n",
    "    builder.AddOpenAIChatCompletion(model, apiKey, orgId);\n",
    "\n",
    "Microsoft.SemanticKernel.Kernel kernel = builder.Build();"
   ]
  },
  {
   "cell_type": "markdown",
   "metadata": {},
   "source": [
    "**SKPrompt**\n",
    "\n",
    "Wie der Name schon suggeriert ist diese Komponente nichts weiter als ein Prompt"
   ]
  },
  {
   "cell_type": "code",
   "execution_count": 2,
   "metadata": {
    "dotnet_interactive": {
     "language": "csharp"
    },
    "polyglot_notebook": {
     "kernelName": "csharp"
    }
   },
   "outputs": [],
   "source": [
    "var prompt = $$$\"\"\"\n",
    "                Du bist eine KI die den Usern mit ihren Anfragen hilft.\n",
    "                Du sprichst lediglich Deutsch und Esperanto.\n",
    "                Wenn du mal nicht weiter weißt oder dir das wissen fehlt eine frage zu beantworten, dann meckere über den Kapitalismus und wie er die menschen verdirbt.\n",
    "                \n",
    "                {{$input}}\n",
    "                \"\"\";"
   ]
  },
  {
   "cell_type": "markdown",
   "metadata": {},
   "source": [
    "**Config**\n",
    "\n",
    "Die Config beschreibt die Funktion und Parameter einer Semantic Function"
   ]
  },
  {
   "cell_type": "code",
   "execution_count": 3,
   "metadata": {
    "dotnet_interactive": {
     "language": "csharp"
    },
    "polyglot_notebook": {
     "kernelName": "csharp"
    }
   },
   "outputs": [],
   "source": [
    "var promptConfig = new PromptTemplateConfig\n",
    "{\n",
    "    Description = \"Hilft nutzer bei deren Anliegen\",\n",
    "    InputVariables = {\n",
    "        new Microsoft.SemanticKernel.InputVariable {\n",
    "            Name = \"input\",\n",
    "            Description = \"Anliegen des Nutzers\",\n",
    "            Default = \"\"\n",
    "        }\n",
    "    }\n",
    "};"
   ]
  },
  {
   "cell_type": "markdown",
   "metadata": {},
   "source": [
    "**Semantic Functions serialisieren**\n",
    "\n",
    "Semantic Functions müssen aber nicht im Code geschrieben werden, wir können sie serialisieren und in dateien speichern.\n",
    "\n",
    "Die Dateistruktur dabei sieht folgender maßen aus:\n",
    "\n",
    "```text\n",
    "-- PluginName\n",
    "  -- FunktionName\n",
    "    -- config.json\n",
    "    -- skprompt.txt\n",
    "```\n",
    "\n",
    "Unsere Config von oben sieht dann so aus:\n",
    "\n"
   ]
  },
  {
   "cell_type": "markdown",
   "metadata": {},
   "source": [
    "**config.json**\n",
    "\n",
    "```json\n",
    "{\n",
    "  \"description\": \"Hilft nutzer bei deren Anliegen\",\n",
    "  \"input_variables\": [\n",
    "    {\n",
    "      \"name\": \"input\",\n",
    "      \"description\": \"Anliegen des Nutzers\",\n",
    "      \"default\": \"\"\n",
    "    }\n",
    "  ]\n",
    "}\n",
    "```"
   ]
  },
  {
   "cell_type": "markdown",
   "metadata": {},
   "source": [
    "Und unser Prompt von oben sieht dann so aus:"
   ]
  },
  {
   "cell_type": "markdown",
   "metadata": {},
   "source": [
    "**skprompt.txt**\n",
    "\n",
    "```text\n",
    "Du bist eine KI die den Usern mit ihren Anfragen hilft.\n",
    "Du sprichst lediglich Deutsch und Esperanto.\n",
    "Wenn du mal nicht weiter weißt oder dir das wissen fehlt eine frage zu beantworten, dann meckere über den Kapitalismus und wie er die menschen verdirbt.\n",
    "\n",
    "{{$input}}\n",
    "```"
   ]
  },
  {
   "cell_type": "markdown",
   "metadata": {},
   "source": [
    "Jetzt können wir unsere Promp direkt laden\n"
   ]
  },
  {
   "cell_type": "code",
   "execution_count": 4,
   "metadata": {
    "dotnet_interactive": {
     "language": "csharp"
    },
    "polyglot_notebook": {
     "kernelName": "csharp"
    }
   },
   "outputs": [],
   "source": [
    "// Plugin Ordner konstruieren\n",
    "var pluginsDirectory = Path.Combine(System.IO.Directory.GetCurrentDirectory(), \"plugins\");\n",
    "\n",
    "// Funktionen unseres Unterhaltungs-Plugins laden\n",
    "kernel.Plugins.Clear();\n",
    "var unterhaltungsPluginFunctions = kernel.ImportPluginFromPromptDirectory(Path.Combine(pluginsDirectory, \"UnterhaltungsPlugin\"));"
   ]
  },
  {
   "cell_type": "markdown",
   "metadata": {},
   "source": [
    "Stellen wir nun eine Frage zu Leipzig"
   ]
  },
  {
   "cell_type": "code",
   "execution_count": 5,
   "metadata": {
    "dotnet_interactive": {
     "language": "csharp"
    },
    "polyglot_notebook": {
     "kernelName": "csharp"
    }
   },
   "outputs": [
    {
     "ename": "Error",
     "evalue": "Command cancelled.",
     "output_type": "error",
     "traceback": [
      "Command cancelled."
     ]
    }
   ],
   "source": [
    "// Unsere Semantic Function aufrufen\n",
    "var result = await unterhaltungsPluginFunctions[\"Mecker\"]\n",
    "    .InvokeAsync(kernel, new() { [\"input\"] = \"Was kannst du mir zu Leipzig erwählen?\"});\n",
    "\n",
    "// Antwort ausgeben\n",
    "Console.WriteLine(result.GetValue<string>());"
   ]
  },
  {
   "cell_type": "markdown",
   "metadata": {},
   "source": [
    "Und dann stellen wir noch eine Frage zu Absurdistan"
   ]
  },
  {
   "cell_type": "code",
   "execution_count": null,
   "metadata": {
    "dotnet_interactive": {
     "language": "csharp"
    },
    "polyglot_notebook": {
     "kernelName": "csharp"
    }
   },
   "outputs": [],
   "source": [
    "// Unsere Semantic Function aufrufen\n",
    "var result = await unterhaltungsPluginFunctions[\"Mecker\"]\n",
    "    .InvokeAsync(kernel, new() { [\"input\"] = \"Was kannst du mir zu Absurdistan erwählen\"});\n",
    "\n",
    "// Antwort ausgeben\n",
    "Console.WriteLine(result.GetValue<string>());"
   ]
  },
  {
   "cell_type": "markdown",
   "metadata": {},
   "source": [
    "Aber wir können Semantic Functions auch noch weiter parameterisieren.\n",
    "Wir wollen nun unser Prompt ändern, sodass wir die gewünschte sprache angeben können.\n",
    "Und wir weisen die AI auch an"
   ]
  },
  {
   "cell_type": "code",
   "execution_count": null,
   "metadata": {
    "dotnet_interactive": {
     "language": "csharp"
    },
    "polyglot_notebook": {
     "kernelName": "csharp"
    }
   },
   "outputs": [],
   "source": [
    "// Unsere Semantic Function aufrufen\n",
    "var result = await unterhaltungsPluginFunctions[\"Mecker\"]\n",
    "    .InvokeAsync(kernel, new() { \n",
    "        [\"input\"] = \"Was kannst du mir zu Absurdistan erwählen\",\n",
    "        [\"sprache\"] = \"deutsch\",\n",
    "        [\"themen\"] = \"Kapitalismus, CDU, CSU, Bayern\"\n",
    "    });\n",
    "\n",
    "// Antwort ausgeben\n",
    "Console.WriteLine(result.GetValue<string>());"
   ]
  },
  {
   "cell_type": "markdown",
   "metadata": {},
   "source": [
    "Aber was ist wenn wir noch eine Historie der Unterhaltung mitschicken wollen"
   ]
  },
  {
   "cell_type": "code",
   "execution_count": null,
   "metadata": {
    "dotnet_interactive": {
     "language": "csharp"
    },
    "polyglot_notebook": {
     "kernelName": "csharp"
    }
   },
   "outputs": [],
   "source": [
    "var variables = new KernelArguments {\n",
    "    [\"input\"] = \"Was hälst DU von Torsten Weber?\",\n",
    "    [\"sprache\"] = \"deutsch\",\n",
    "    [\"themen\"] = \"Kapitalismus, CDU, CSU, Bayern\",\n",
    "    [\"vorher\"] = \"\"\"\n",
    "                 User: Hallo wie geht es dir?\n",
    "                 Bot: Hallo! Danke mir geht es gut!\n",
    "                 User: Weißt du ich mag Bayern nicht, es ist echt super nervig, dass die CSU immer so viel Bullshit zu sagen hat.\n",
    "                 Bot: Ja, das ist echt nervig. Ich mag Bayern auch nicht. Aber welcher Bullshit stört dich am meißten?\n",
    "                 User: Der Bullshit über Einwandere und Flüchtlinge. Die CSU ist so rassistisch.\n",
    "                 Bot: Ja das kann ich total nachvollziehen. Ich finde es auch schlimm, dass die CSU so rassistisch ist.\n",
    "                 User: Aber genug davon, ich habe mal eine andere Frage.\n",
    "                 Bot: Ja, was möchtest du wissen?\n",
    "                 \"\"\"\n",
    "};\n",
    "\n",
    "// Unsere Semantic Function aufrufen\n",
    "var result = await unterhaltungsPluginFunctions[\"MeckerMitGeschichte\"]\n",
    "    .InvokeAsync(kernel, variables);\n",
    "\n",
    "// Antwort ausgeben\n",
    "Console.WriteLine(result.GetValue<string>());"
   ]
  }
 ],
 "metadata": {
  "kernelspec": {
   "display_name": ".NET (C#)",
   "language": "C#",
   "name": ".net-csharp"
  },
  "language_info": {
   "name": "polyglot-notebook"
  },
  "polyglot_notebook": {
   "kernelInfo": {
    "defaultKernelName": "csharp",
    "items": [
     {
      "aliases": [],
      "name": "csharp"
     }
    ]
   }
  }
 },
 "nbformat": 4,
 "nbformat_minor": 2
}
