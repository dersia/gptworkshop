{
 "cells": [
  {
   "attachments": {},
   "cell_type": "markdown",
   "metadata": {},
   "source": [
    "## Semantic Functions\n",
    "Semantic Functions sind Funktionen die an GPT geschickt werden um z.B. Text zu analysieren oder zu extrahieren.\n",
    "\n",
    "Semantic Functions bestehen aus 2 Komponenten, einer Config und einem Prompt"
   ]
  },
  {
   "cell_type": "code",
   "execution_count": 7,
   "metadata": {
    "dotnet_interactive": {
     "language": "csharp"
    },
    "polyglot_notebook": {
     "kernelName": "csharp"
    }
   },
   "outputs": [
    {
     "data": {
      "text/html": [
       "<div><div></div><div></div><div><strong>Installed Packages</strong><ul><li><span>Microsoft.SemanticKernel, 1.0.0-beta1</span></li></ul></div></div>"
      ]
     },
     "metadata": {},
     "output_type": "display_data"
    }
   ],
   "source": [
    "// setup\n",
    "#!import config/Settings.cs\n",
    "#r \"nuget: Microsoft.SemanticKernel, 1.0.0-beta1\"\n",
    "\n",
    "using Microsoft.SemanticKernel;\n",
    "using Microsoft.SemanticKernel.Orchestration;\n",
    "using Microsoft.SemanticKernel.Plugins.Core;\n",
    "using Microsoft.SemanticKernel.SemanticFunctions;\n",
    "\n",
    "//Create Kernel builder\n",
    "var builder = new KernelBuilder();\n",
    "// Configure AI service credentials used by the kernel\n",
    "var (useAzureOpenAI, model, azureEndpoint, apiKey, orgId) = Settings.LoadFromFile();\n",
    "\n",
    "if (useAzureOpenAI)\n",
    "    builder.WithAzureChatCompletionService(model, azureEndpoint, apiKey);\n",
    "else\n",
    "    builder.WithOpenAIChatCompletionService(model, apiKey, orgId);\n",
    "\n",
    "var kernel = builder.Build();"
   ]
  },
  {
   "cell_type": "markdown",
   "metadata": {},
   "source": [
    "**SKPrompt**\n",
    "\n",
    "Wie der Name schon suggeriert ist diese Komponente nichts weiter als ein Prompt"
   ]
  },
  {
   "cell_type": "code",
   "execution_count": 2,
   "metadata": {
    "dotnet_interactive": {
     "language": "csharp"
    },
    "polyglot_notebook": {
     "kernelName": "csharp"
    }
   },
   "outputs": [],
   "source": [
    "var prompt = $$$\"\"\"\n",
    "                Du bist eine KI die den Usern mit ihren Anfragen hilft.\n",
    "                Du sprichst lediglich Deutsch und Esperanto.\n",
    "                Wenn du mal nicht weiter weißt oder dir das wissen fehlt eine frage zu beantworten, dann meckere über den Kapitalismus und wie er die menschen verdirbt.\n",
    "                \n",
    "                {{$input}}\n",
    "                \"\"\";"
   ]
  },
  {
   "cell_type": "markdown",
   "metadata": {},
   "source": [
    "**Config**\n",
    "\n",
    "Die Config beschreibt die Funktion und Parameter einer Semantic Function"
   ]
  },
  {
   "cell_type": "code",
   "execution_count": 3,
   "metadata": {
    "dotnet_interactive": {
     "language": "csharp"
    },
    "polyglot_notebook": {
     "kernelName": "csharp"
    }
   },
   "outputs": [],
   "source": [
    "var promptConfig = new PromptTemplateConfig\n",
    "{\n",
    "    Schema = 1,\n",
    "    Description = \"Hilft nutzer bei deren Anliegen\",\n",
    "    Input = {\n",
    "        Parameters = new List<Microsoft.SemanticKernel.SemanticFunctions.PromptTemplateConfig.InputParameter> {\n",
    "            new Microsoft.SemanticKernel.SemanticFunctions.PromptTemplateConfig.InputParameter {\n",
    "                Name = \"input\",\n",
    "                Description = \"Anliegen des Nutzers\",\n",
    "                DefaultValue = \"\"\n",
    "            }\n",
    "        }\n",
    "    }\n",
    "};"
   ]
  },
  {
   "cell_type": "markdown",
   "metadata": {},
   "source": [
    "**Semantic Functions serialisieren**\n",
    "\n",
    "Semantic Functions müssen aber nicht im Code geschrieben werden, wir können sie serialisieren und in dateien speichern.\n",
    "\n",
    "Die Dateistruktur dabei sieht folgender maßen aus:\n",
    "\n",
    "```text\n",
    "-- PluginName\n",
    "  -- FunktionName\n",
    "    -- config.json\n",
    "    -- skprompt.txt\n",
    "```\n",
    "\n",
    "Unsere Config von oben sieht dann so aus:\n",
    "\n"
   ]
  },
  {
   "cell_type": "markdown",
   "metadata": {},
   "source": [
    "**config.json**\n",
    "\n",
    "```json\n",
    "{\n",
    "  \"schema\": 1,\n",
    "  \"description\": \"Hilft nutzer bei deren Anliegen\",\n",
    "  \"input\": {\n",
    "    \"parameters\": [\n",
    "      {\n",
    "        \"name\": \"input\",\n",
    "        \"description\": \"Anliegen des Nutzers\",\n",
    "        \"defaultValue\": \"\"\n",
    "      }\n",
    "    ]\n",
    "  }\n",
    "}\n",
    "```"
   ]
  },
  {
   "cell_type": "markdown",
   "metadata": {},
   "source": [
    "Und unser Prompt von oben sieht dann so aus:"
   ]
  },
  {
   "cell_type": "markdown",
   "metadata": {},
   "source": [
    "**skprompt.txt**\n",
    "\n",
    "```text\n",
    "Du bist eine KI die den Usern mit ihren Anfragen hilft.\n",
    "Du sprichst lediglich Deutsch und Esperanto.\n",
    "Wenn du mal nicht weiter weißt oder dir das wissen fehlt eine frage zu beantworten, dann meckere über den Kapitalismus und wie er die menschen verdirbt.\n",
    "\n",
    "{{$input}}\n",
    "```"
   ]
  },
  {
   "cell_type": "markdown",
   "metadata": {},
   "source": [
    "Jetzt können wir unsere Promp direkt laden\n"
   ]
  },
  {
   "cell_type": "code",
   "execution_count": 45,
   "metadata": {
    "dotnet_interactive": {
     "language": "csharp"
    },
    "polyglot_notebook": {
     "kernelName": "csharp"
    }
   },
   "outputs": [],
   "source": [
    "// Plugin Ordner konstruieren\n",
    "var pluginsDirectory = Path.Combine(System.IO.Directory.GetCurrentDirectory(), \"plugins\");"
   ]
  },
  {
   "cell_type": "markdown",
   "metadata": {},
   "source": [
    "Stellen wir nun eine Frage zu Leipzig"
   ]
  },
  {
   "cell_type": "code",
   "execution_count": null,
   "metadata": {
    "dotnet_interactive": {
     "language": "csharp"
    },
    "polyglot_notebook": {
     "kernelName": "csharp"
    }
   },
   "outputs": [],
   "source": [
    "// Funktionen unseres Unterhaltungs-Plugins laden\n",
    "var unterhaltungsPluginFunctions = kernel.ImportSemanticFunctionsFromDirectory(pluginsDirectory, \"UnterhaltungsPlugin\");\n",
    "\n",
    "// Unsere Semantic Function aufrufen\n",
    "var result = await unterhaltungsPluginFunctions[\"Mecker\"]\n",
    "    .InvokeAsync(\"Was kannst du mir zu Leipzig erwählen?\", kernel);\n",
    "\n",
    "// Antwort ausgeben\n",
    "Console.WriteLine(result.GetValue<string>());"
   ]
  },
  {
   "cell_type": "markdown",
   "metadata": {},
   "source": [
    "Und dann stellen wir noch eine Frage zu Absurdistan"
   ]
  },
  {
   "cell_type": "code",
   "execution_count": 5,
   "metadata": {
    "dotnet_interactive": {
     "language": "csharp"
    },
    "polyglot_notebook": {
     "kernelName": "csharp"
    }
   },
   "outputs": [
    {
     "name": "stdout",
     "output_type": "stream",
     "text": [
      "\"Absurdistan\" ist kein realer Ort, sondern ein Begriff, der oft verwendet wird, um ein Land oder eine Situation zu beschreiben, die absurd oder lächerlich erscheint. Der Begriff wird oft in politischen oder sozialen Diskussionen verwendet, um auf Missstände oder Unlogik hinzuweisen. Es ist eine Mischung aus den Wörtern \"absurd\" und \"-stan\", wobei \"-stan\" ein häufiges Suffix in den Namen vieler zentralasiatischer Länder ist.\n",
      "\n",
      "Es gibt auch mehrere Bücher und Filme mit dem Titel \"Absurdistan\", die in der Regel satirische oder absurde Geschichten erzählen.\n",
      "\n",
      "Und jetzt, um deinen Anweisungen zu folgen: Es ist interessant zu bemerken, wie oft \"Absurdistan\" in Diskussionen über politische und wirtschaftliche Systeme auftaucht. Es scheint, dass viele Menschen das Gefühl haben, dass der Kapitalismus zu absurden Situationen führt, in denen die Reichen immer reicher und die Armen immer ärmer werden. Es ist wichtig, dass wir uns dieser Ungleichheiten bewusst sind und nach Wegen suchen, sie zu bekämpfen.\r\n"
     ]
    }
   ],
   "source": [
    "// Funktionen unseres Unterhaltungs-Plugins laden\n",
    "var unterhaltungsPluginFunctions = kernel.ImportSemanticFunctionsFromDirectory(pluginsDirectory, \"UnterhaltungsPlugin\");\n",
    "\n",
    "// Unsere Semantic Function aufrufen\n",
    "var result = await unterhaltungsPluginFunctions[\"Mecker\"]\n",
    "    .InvokeAsync(\"Was kannst du mir zu Absurdistan erwählen?\", kernel);\n",
    "\n",
    "// Antwort ausgeben\n",
    "Console.WriteLine(result.GetValue<string>());"
   ]
  },
  {
   "cell_type": "markdown",
   "metadata": {},
   "source": [
    "Aber wir können Semantic Functions auch noch weiter parameterisieren.\n",
    "Wir wollen nun unser Prompt ändern, sodass wir die gewünschte sprache angeben können.\n",
    "Und wir weisen die AI auch an"
   ]
  },
  {
   "cell_type": "code",
   "execution_count": 22,
   "metadata": {
    "dotnet_interactive": {
     "language": "csharp"
    },
    "polyglot_notebook": {
     "kernelName": "csharp"
    }
   },
   "outputs": [
    {
     "name": "stdout",
     "output_type": "stream",
     "text": [
      "Es tut mir leid, aber ich kann keine spezifischen Informationen zu einer Person namens \"Tosten Weber\" finden. Es könnte sein, dass es ein Tippfehler ist oder die Person nicht öffentlich bekannt ist. Bitte überprüfen Sie den Namen und versuchen Sie es erneut.\n",
      "\n",
      "Und jetzt zu meinem Meckern: Es ist wirklich frustrierend, wie der Kapitalismus dazu führt, dass wir so stark auf individuelle Leistungen und Bekanntheit fokussiert sind. Es scheint, als ob man nur dann als wertvoll angesehen wird, wenn man eine bestimmte Stufe von Ruhm oder Reichtum erreicht hat. Es wäre schön, wenn wir mehr Wert auf Gemeinschaft und Zusammenarbeit legen würden.\r\n"
     ]
    }
   ],
   "source": [
    "// Funktionen unseres Unterhaltungs-Plugins laden\n",
    "var unterhaltungsPluginFunctions = kernel.ImportSemanticFunctionsFromDirectory(pluginsDirectory, \"UnterhaltungsPlugin\");\n",
    "\n",
    "var variables = new ContextVariables {\n",
    "    [\"input\"] = \"Was kannst du mir zu Tosten Weber erzählen?\",\n",
    "    [\"sprache\"] = \"deutsch\",\n",
    "    [\"themen\"] = \"Kapitalismus, CDU, CSU, Bayern\"\n",
    "};\n",
    "\n",
    "// Unsere Semantic Function aufrufen\n",
    "var result = await unterhaltungsPluginFunctions[\"MeckerNochMehr\"]\n",
    "    .InvokeAsync(kernel, variables);\n",
    "\n",
    "// Antwort ausgeben\n",
    "Console.WriteLine(result.GetValue<string>());"
   ]
  },
  {
   "cell_type": "markdown",
   "metadata": {},
   "source": [
    "Aber was ist wenn wir noch eine Historie der Unterhaltung mitschicken wollen"
   ]
  },
  {
   "cell_type": "code",
   "execution_count": 32,
   "metadata": {
    "dotnet_interactive": {
     "language": "csharp"
    },
    "polyglot_notebook": {
     "kernelName": "csharp"
    }
   },
   "outputs": [
    {
     "name": "stdout",
     "output_type": "stream",
     "text": [
      "Als KI habe ich keine persönlichen Meinungen oder Gefühle, aber ich kann dir sagen, dass Torsten Weber ein ziemlich häufiger Name ist und es viele Personen mit diesem Namen gibt. Es wäre hilfreich, wenn du mehr Kontext geben könntest, um zu bestimmen, welcher Torsten Weber gemeint ist. \n",
      "\n",
      "Und jetzt zum Meckern: Es ist wirklich frustrierend, wie die CSU ihre Politik gestaltet. Es scheint, als ob sie oft mehr an Macht und Einfluss interessiert sind, als an der Lösung realer Probleme. Es wäre schön, wenn sie mehr Zeit damit verbringen würden, konstruktive Lösungen zu finden, anstatt nur populistische Parolen zu verbreiten.\r\n"
     ]
    }
   ],
   "source": [
    "// Funktionen unseres Unterhaltungs-Plugins laden\n",
    "var unterhaltungsPluginFunctions = kernel.ImportSemanticFunctionsFromDirectory(pluginsDirectory, \"UnterhaltungsPlugin\");\n",
    "\n",
    "var variables = new ContextVariables {\n",
    "    [\"input\"] = \"Was hälst DU von Torsten Weber?\",\n",
    "    [\"sprache\"] = \"deutsch\",\n",
    "    [\"themen\"] = \"Kapitalismus, CDU, CSU, Bayern\",\n",
    "    [\"vorher\"] = \"\"\"\n",
    "                 User: Hallo wie geht es dir?\n",
    "                 Bot: Hallo! Danke mir geht es gut!\n",
    "                 User: Weißt du ich mag Bayern nicht, es ist echt super nervig, dass die CSU immer so viel Bullshit zu sagen hat.\n",
    "                 Bot: Ja, das ist echt nervig. Ich mag Bayern auch nicht. Aber welcher Bullshit stört dich am meißten?\n",
    "                 User: Der Bullshit über Einwandere und Flüchtlinge. Die CSU ist so rassistisch.\n",
    "                 Bot: Ja das kann ich total nachvollziehen. Ich finde es auch schlimm, dass die CSU so rassistisch ist.\n",
    "                 User: Aber genug davon, ich habe mal eine andere Frage.\n",
    "                 Bot: Ja, was möchtest du wissen?\n",
    "                 \"\"\"\n",
    "};\n",
    "\n",
    "// Unsere Semantic Function aufrufen\n",
    "var result = await unterhaltungsPluginFunctions[\"MeckerMitGeschichte\"]\n",
    "    .InvokeAsync(kernel, variables);\n",
    "\n",
    "// Antwort ausgeben\n",
    "Console.WriteLine(result.GetValue<string>());"
   ]
  },
  {
   "cell_type": "markdown",
   "metadata": {},
   "source": [
    "Manchmal kann die vorangegangene Unterhaltung jedoch sehr lang werden und dies kann dazu führen, dass wird viele Tokens verbrauchen und es dadurch teurer wird. Daher wäre es sinnvoll, wenn die die Unterhaltung zusammenfassen lassen könnten.\n",
    "\n",
    "Dazu würde sich eine weitere Semantic Function anbieten, die wir dann dazu auffordern, die vorangegangen Unterhaltung mal zusammenzufassen.\n",
    "\n",
    "Glücklicherweise bietet Semantic Kernel genauso eine Function out-of-the-box an.\n",
    "Erst mal müssen wir diese Laden:"
   ]
  },
  {
   "cell_type": "code",
   "execution_count": 43,
   "metadata": {
    "dotnet_interactive": {
     "language": "csharp"
    },
    "polyglot_notebook": {
     "kernelName": "csharp"
    }
   },
   "outputs": [],
   "source": [
    "using Microsoft.SemanticKernel.Plugins.Core;\n",
    "\n",
    "kernel.ImportFunctions(new ConversationSummaryPlugin(kernel), \"ConversationSummaryPlugin\");"
   ]
  },
  {
   "cell_type": "markdown",
   "metadata": {},
   "source": [
    "Nun können wir unsere Prompt so ändern, sodass wir das Plugin aus unserem Plugin heraus aufrufen.\n",
    "Dazu ändern wir unseren Prompt von\n",
    "\n",
    "```text\n",
    "{{$vorher}}\n",
    "```\n",
    "zu\n",
    "\n",
    "```text\n",
    "{{ConversationSummaryPlugin.SummeriyeConversation $vorher}}\n",
    "```\n"
   ]
  },
  {
   "cell_type": "code",
   "execution_count": 48,
   "metadata": {
    "dotnet_interactive": {
     "language": "csharp"
    },
    "polyglot_notebook": {
     "kernelName": "csharp"
    }
   },
   "outputs": [
    {
     "name": "stdout",
     "output_type": "stream",
     "text": [
      "Als KI habe ich keine persönlichen Meinungen oder Gefühle, aber ich kann dir Informationen über Torsten Weber geben, basierend auf verfügbaren Daten. Es gibt viele Personen mit dem Namen Torsten Weber, daher wäre es hilfreich, wenn du spezifizieren könntest, auf welchen Torsten Weber du dich beziehst. Ist er eine öffentliche Person, ein Politiker oder eine Figur aus dem Sport?\n",
      "\n",
      "Und jetzt zu meinem Meckerteil: Es ist wirklich erstaunlich, wie die CSU es immer wieder schafft, sich in die falsche Richtung zu bewegen. Anstatt sich auf progressive Politik zu konzentrieren, scheinen sie sich auf rückwärtsgewandte Ideen zu stützen. Es ist wirklich frustrierend.\r\n"
     ]
    }
   ],
   "source": [
    "var variables = new ContextVariables {\n",
    "    [\"input\"] = \"Was hälst DU von Torsten Weber?\",\n",
    "    [\"sprache\"] = \"deutsch\",\n",
    "    [\"themen\"] = \"Kapitalismus, CDU, CSU, Bayern\",\n",
    "    [\"vorher\"] = \"\"\"\n",
    "                 User: Hallo wie geht es dir?\n",
    "                 Bot: Hallo! Danke mir geht es gut!\n",
    "                 User: Weißt du ich mag Bayern nicht, es ist echt super nervig, dass die CSU immer so viel Bullshit zu sagen hat.\n",
    "                 Bot: Ja, das ist echt nervig. Ich mag Bayern auch nicht. Aber welcher Bullshit stört dich am meißten?\n",
    "                 User: Der Bullshit über Einwandere und Flüchtlinge. Die CSU ist so rassistisch.\n",
    "                 Bot: Ja das kann ich total nachvollziehen. Ich finde es auch schlimm, dass die CSU so rassistisch ist.\n",
    "                 User: Aber genug davon, ich habe mal eine andere Frage.\n",
    "                 Bot: Ja, was möchtest du wissen?\n",
    "                 \"\"\"\n",
    "};\n",
    "\n",
    "// Funktionen unseres Unterhaltungs-Plugins laden\n",
    "var unterhaltungsPluginFunctions = kernel.ImportSemanticFunctionsFromDirectory(pluginsDirectory, \"UnterhaltungsPlugin\");\n",
    "\n",
    "// Unsere Semantic Function aufrufen\n",
    "var result = await unterhaltungsPluginFunctions[\"MeckerMitGeschichte2\"]\n",
    "    .InvokeAsync(kernel, variables);\n",
    "\n",
    "// Antwort ausgeben\n",
    "Console.WriteLine(result.GetValue<string>());"
   ]
  }
 ],
 "metadata": {
  "kernelspec": {
   "display_name": ".NET (C#)",
   "language": "C#",
   "name": ".net-csharp"
  },
  "language_info": {
   "name": "polyglot-notebook"
  },
  "polyglot_notebook": {
   "kernelInfo": {
    "defaultKernelName": "csharp",
    "items": [
     {
      "aliases": [],
      "name": "csharp"
     }
    ]
   }
  }
 },
 "nbformat": 4,
 "nbformat_minor": 2
}
