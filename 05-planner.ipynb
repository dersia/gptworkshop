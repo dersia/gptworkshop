{
 "cells": [
  {
   "attachments": {},
   "cell_type": "markdown",
   "metadata": {},
   "source": [
    "## Planner\n",
    "\n",
    "Semantic Kernel bringt auch das Feature Planner mit.\n",
    "Die Idee hinter Planners ist es, dass diese GPT nutzen um herauszufinden welche Plugins in welcher reihenfolge aufgerufen werden sollen.\n",
    "\n",
    "#### Erstmal wollen wir wieder all unsere Plugins laden"
   ]
  },
  {
   "cell_type": "code",
   "execution_count": 6,
   "metadata": {
    "dotnet_interactive": {
     "language": "csharp"
    },
    "polyglot_notebook": {
     "kernelName": "csharp"
    }
   },
   "outputs": [
    {
     "data": {
      "text/html": [
       "<div><div></div><div></div><div><strong>Installed Packages</strong><ul><li><span>Microsoft.SemanticKernel, 1.0.0-beta1</span></li></ul></div></div>"
      ]
     },
     "metadata": {},
     "output_type": "display_data"
    }
   ],
   "source": [
    "// setup\n",
    "#!import config/Settings.cs\n",
    "#r \"nuget: Microsoft.SemanticKernel, 1.0.0-beta1\"\n",
    "\n",
    "using Microsoft.SemanticKernel;\n",
    "using Microsoft.SemanticKernel.Orchestration;\n",
    "using Microsoft.SemanticKernel.Plugins.Core;\n",
    "using Microsoft.SemanticKernel.SemanticFunctions;\n",
    "using Microsoft.SemanticKernel.Planners;\n",
    "using System.ComponentModel;\n",
    "\n",
    "//Create Kernel builder\n",
    "var builder = new KernelBuilder();\n",
    "// Configure AI service credentials used by the kernel\n",
    "var (useAzureOpenAI, model, azureEndpoint, apiKey, orgId) = Settings.LoadFromFile();\n",
    "\n",
    "if (useAzureOpenAI)\n",
    "    builder.WithAzureChatCompletionService(model, azureEndpoint, apiKey);\n",
    "else\n",
    "    builder.WithOpenAIChatCompletionService(model, apiKey, orgId);\n",
    "\n",
    "var kernel = builder.Build();"
   ]
  },
  {
   "cell_type": "code",
   "execution_count": 5,
   "metadata": {
    "dotnet_interactive": {
     "language": "csharp"
    },
    "polyglot_notebook": {
     "kernelName": "csharp"
    }
   },
   "outputs": [],
   "source": [
    "#!import plugins/DevOpenspacePlugin/DevOpenSpacePlugin.cs\n",
    "using Microsoft.SemanticKernel.Plugins.Core;\n",
    "\n",
    "var devopenspaceplugin = kernel.ImportFunctions(new DevOpenSpacePlugin(), \"DevOpenspacePlugin\");\n",
    "var conversationSummaryPlugin = kernel.ImportFunctions(new ConversationSummaryPlugin(kernel), \"ConversationSummaryPlugin\");\n",
    "\n",
    "var pluginsDirectory = Path.Combine(System.IO.Directory.GetCurrentDirectory(), \"plugins\");\n",
    "var unterhaltungsPluginFunctions = kernel.ImportSemanticFunctionsFromDirectory(pluginsDirectory, \"UnterhaltungsPlugin\");\n"
   ]
  },
  {
   "cell_type": "markdown",
   "metadata": {},
   "source": [
    "Und nun nehmen wir uns den built-in SequentialPlanner und lassen ihn mal \"Plannen\""
   ]
  },
  {
   "cell_type": "code",
   "execution_count": 9,
   "metadata": {
    "dotnet_interactive": {
     "language": "csharp"
    },
    "polyglot_notebook": {
     "kernelName": "csharp"
    }
   },
   "outputs": [
    {
     "ename": "Error",
     "evalue": "Microsoft.SemanticKernel.Diagnostics.SKException: Not possible to create plan for goal with available functions.\nGoal:Mecker\nFunctions:\n\r\n   at Microsoft.SemanticKernel.Planners.SequentialPlanner.CreatePlanAsync(String goal, CancellationToken cancellationToken)\r\n   at Submission#19.<<Initialize>>d__0.MoveNext()\r\n--- End of stack trace from previous location ---\r\n   at Microsoft.CodeAnalysis.Scripting.ScriptExecutionState.RunSubmissionsAsync[TResult](ImmutableArray`1 precedingExecutors, Func`2 currentExecutor, StrongBox`1 exceptionHolderOpt, Func`2 catchExceptionOpt, CancellationToken cancellationToken)",
     "output_type": "error",
     "traceback": [
      "Microsoft.SemanticKernel.Diagnostics.SKException: Not possible to create plan for goal with available functions.\n",
      "Goal:Mecker\n",
      "Functions:\n",
      "\r\n",
      "   at Microsoft.SemanticKernel.Planners.SequentialPlanner.CreatePlanAsync(String goal, CancellationToken cancellationToken)\r\n",
      "   at Submission#19.<<Initialize>>d__0.MoveNext()\r\n",
      "--- End of stack trace from previous location ---\r\n",
      "   at Microsoft.CodeAnalysis.Scripting.ScriptExecutionState.RunSubmissionsAsync[TResult](ImmutableArray`1 precedingExecutors, Func`2 currentExecutor, StrongBox`1 exceptionHolderOpt, Func`2 catchExceptionOpt, CancellationToken cancellationToken)"
     ]
    }
   ],
   "source": [
    "var planner = new SequentialPlanner(kernel);\n",
    "\n",
    "var userask = \"Mecker\";\n",
    "\n",
    "var plan = await planner.CreatePlanAsync(userask);\n",
    "\n",
    "var result = await plan.InvokeAsync();"
   ]
  },
  {
   "cell_type": "code",
   "execution_count": null,
   "metadata": {
    "dotnet_interactive": {
     "language": "csharp"
    },
    "polyglot_notebook": {
     "kernelName": "csharp"
    }
   },
   "outputs": [],
   "source": [
    "\n",
    "var result = await kernel.RunAsync(\"\", devopenspaceplugin[\"GetUsersTwitterHandle\"], devopenspaceplugin[\"GetUsersCount\"], unterhaltungsPluginFunctions[\"Mecker\"]);\n",
    "\n",
    "// Antwort ausgeben\n",
    "Console.WriteLine(result.GetValue<string>());"
   ]
  }
 ],
 "metadata": {
  "kernelspec": {
   "display_name": ".NET (C#)",
   "language": "C#",
   "name": ".net-csharp"
  },
  "language_info": {
   "name": "polyglot-notebook"
  },
  "polyglot_notebook": {
   "kernelInfo": {
    "defaultKernelName": "csharp",
    "items": [
     {
      "aliases": [],
      "name": "csharp"
     }
    ]
   }
  }
 },
 "nbformat": 4,
 "nbformat_minor": 2
}
