{
 "cells": [
  {
   "attachments": {},
   "cell_type": "markdown",
   "metadata": {},
   "source": [
    "## Native Functions\n",
    "Native Functions sind Funktionen die in Code geschrieben werden und von Semantic Kernel aufgerufen werden.\n",
    "\n",
    "Semantic Functions bestehen aus einer Klasse und Methoden. Die Methoden müssen annotiert werden um die Config ähnlich wie bei den Semantic Functions mit anzugeben."
   ]
  },
  {
   "cell_type": "code",
   "execution_count": 3,
   "metadata": {
    "dotnet_interactive": {
     "language": "csharp"
    },
    "polyglot_notebook": {
     "kernelName": "csharp"
    }
   },
   "outputs": [
    {
     "data": {
      "text/html": [
       "<div><div></div><div></div><div><strong>Installed Packages</strong><ul><li><span>Microsoft.SemanticKernel, 1.0.0-beta1</span></li></ul></div></div>"
      ]
     },
     "metadata": {},
     "output_type": "display_data"
    }
   ],
   "source": [
    "// setup\n",
    "#!import config/Settings.cs\n",
    "#r \"nuget: Microsoft.SemanticKernel, 1.0.0-beta1\"\n",
    "\n",
    "using Microsoft.SemanticKernel;\n",
    "using Microsoft.SemanticKernel.Orchestration;\n",
    "using Microsoft.SemanticKernel.Plugins.Core;\n",
    "using Microsoft.SemanticKernel.SemanticFunctions;\n",
    "using System.ComponentModel;\n",
    "\n",
    "//Create Kernel builder\n",
    "var builder = new KernelBuilder();\n",
    "// Configure AI service credentials used by the kernel\n",
    "var (useAzureOpenAI, model, azureEndpoint, apiKey, orgId) = Settings.LoadFromFile();\n",
    "\n",
    "if (useAzureOpenAI)\n",
    "    builder.WithAzureChatCompletionService(model, azureEndpoint, apiKey);\n",
    "else\n",
    "    builder.WithOpenAIChatCompletionService(model, apiKey, orgId);\n",
    "\n",
    "var kernel = builder.Build();"
   ]
  },
  {
   "cell_type": "markdown",
   "metadata": {},
   "source": [
    "**SKFunction**\n",
    "\n",
    "Eine Native Function wird mit dem Attribut SKFunction annotiert"
   ]
  },
  {
   "cell_type": "code",
   "execution_count": 7,
   "metadata": {
    "dotnet_interactive": {
     "language": "csharp"
    },
    "polyglot_notebook": {
     "kernelName": "csharp"
    }
   },
   "outputs": [],
   "source": [
    "public class DevOpenSpacePlugin\n",
    "{\n",
    "    [SKFunction, Description(\"Gibt die Anzahl der User bei der Veranstaltung zurück\")]\n",
    "    public int GetUsersCount()\n",
    "    {\n",
    "        return 120;\n",
    "    }\n",
    "}"
   ]
  },
  {
   "cell_type": "markdown",
   "metadata": {},
   "source": [
    "**Parameter**\n",
    "\n",
    "Um parameter zu beschreiben wird einfach des Description-Attribtue vor dem Parameter gesetzt"
   ]
  },
  {
   "cell_type": "code",
   "execution_count": 6,
   "metadata": {
    "dotnet_interactive": {
     "language": "csharp"
    },
    "polyglot_notebook": {
     "kernelName": "csharp"
    }
   },
   "outputs": [],
   "source": [
    "public class DevOpenSpacePlugin\n",
    "{\n",
    "    [SKFunction, Description(\"Gibt den Twitter Handle des Users anhand des Usernamens zurück\")]\n",
    "    public string GetUsersTwitterHandle([Description(\"Der Username des Users\")] string input)\n",
    "    {\n",
    "        return $\"@{input}\";\n",
    "    }\n",
    "}"
   ]
  },
  {
   "cell_type": "markdown",
   "metadata": {},
   "source": [
    "Stellen wir nun die Frage nach der Anzahl der User"
   ]
  },
  {
   "cell_type": "code",
   "execution_count": 12,
   "metadata": {
    "dotnet_interactive": {
     "language": "csharp"
    },
    "polyglot_notebook": {
     "kernelName": "csharp"
    }
   },
   "outputs": [
    {
     "name": "stdout",
     "output_type": "stream",
     "text": [
      "120\r\n"
     ]
    }
   ],
   "source": [
    "#!import plugins/DevOpenspacePlugin/DevOpenSpacePlugin.cs\n",
    "\n",
    "var devopenspaceplugin = kernel.ImportFunctions(new DevOpenSpacePlugin(), \"DevOpenspacePlugin\");\n",
    "\n",
    "// Unsere Semantic Function aufrufen\n",
    "var result = await devopenspaceplugin[\"GetUsersCount\"]\n",
    "    .InvokeAsync(\"\", kernel);\n",
    "\n",
    "// Antwort ausgeben\n",
    "Console.WriteLine(result.GetValue<int>());"
   ]
  },
  {
   "cell_type": "markdown",
   "metadata": {},
   "source": [
    "Und dann stellen wir noch eine Frage zu einem User"
   ]
  },
  {
   "cell_type": "code",
   "execution_count": 14,
   "metadata": {
    "dotnet_interactive": {
     "language": "csharp"
    },
    "polyglot_notebook": {
     "kernelName": "csharp"
    }
   },
   "outputs": [
    {
     "name": "stdout",
     "output_type": "stream",
     "text": [
      "@Sia\r\n"
     ]
    }
   ],
   "source": [
    "#!import plugins/DevOpenspacePlugin/DevOpenSpacePlugin.cs\n",
    "\n",
    "var devopenspaceplugin = kernel.ImportFunctions(new DevOpenSpacePlugin(), \"DevOpenspacePlugin\");\n",
    "\n",
    "// Unsere Semantic Function aufrufen\n",
    "var result = await devopenspaceplugin[\"GetUsersTwitterHandle\"]\n",
    "    .InvokeAsync(\"Sia\", kernel);\n",
    "\n",
    "// Antwort ausgeben\n",
    "Console.WriteLine(result.GetValue<string>());"
   ]
  }
 ],
 "metadata": {
  "kernelspec": {
   "display_name": ".NET (C#)",
   "language": "C#",
   "name": ".net-csharp"
  },
  "language_info": {
   "name": "polyglot-notebook"
  },
  "polyglot_notebook": {
   "kernelInfo": {
    "defaultKernelName": "csharp",
    "items": [
     {
      "aliases": [],
      "name": "csharp"
     }
    ]
   }
  }
 },
 "nbformat": 4,
 "nbformat_minor": 2
}
