{
 "cells": [
  {
   "attachments": {},
   "cell_type": "markdown",
   "metadata": {},
   "source": [
    "## Native Functions\n",
    "Native Functions sind Funktionen die in Code geschrieben werden und von Semantic Kernel aufgerufen werden.\n",
    "\n",
    "Semantic Functions bestehen aus einer Klasse und Methoden. Die Methoden müssen annotiert werden um die Config ähnlich wie bei den Semantic Functions mit anzugeben."
   ]
  },
  {
   "cell_type": "code",
   "execution_count": 1,
   "metadata": {
    "dotnet_interactive": {
     "language": "csharp"
    },
    "polyglot_notebook": {
     "kernelName": "csharp"
    }
   },
   "outputs": [
    {
     "data": {
      "text/html": [
       "<div><div></div><div></div><div><strong>Installed Packages</strong><ul><li><span>Microsoft.SemanticKernel, 1.1.0</span></li><li><span>Microsoft.SemanticKernel.Plugins.Core, 1.1.0-alpha</span></li></ul></div></div>"
      ]
     },
     "metadata": {},
     "output_type": "display_data"
    }
   ],
   "source": [
    "// setup\n",
    "#!import config/Settings.cs\n",
    "#r \"nuget: Microsoft.SemanticKernel, 1.1.0\"\n",
    "#r \"nuget: Microsoft.SemanticKernel.Plugins.Core, 1.1.0-alpha\"\n",
    "\n",
    "using Microsoft.SemanticKernel;\n",
    "using System.ComponentModel;\n",
    "\n",
    "//Create Kernel builder\n",
    "var builder = Microsoft.SemanticKernel.Kernel.CreateBuilder();\n",
    "// Configure AI service credentials used by the kernel\n",
    "// Configure AI service credentials used by the kernel\n",
    "var (useAzureOpenAI, model, azureEndpoint, apiKey, orgId) = Settings.LoadFromFile();\n",
    "\n",
    "if (useAzureOpenAI)\n",
    "    builder.AddAzureOpenAIChatCompletion(model, azureEndpoint, apiKey);\n",
    "else\n",
    "    builder.AddOpenAIChatCompletion(model, apiKey, orgId);\n",
    "\n",
    "Microsoft.SemanticKernel.Kernel kernel = builder.Build();"
   ]
  },
  {
   "cell_type": "markdown",
   "metadata": {},
   "source": [
    "**KernelFunction**\n",
    "\n",
    "Eine Native Function wird mit dem Attribut SKFunction annotiert"
   ]
  },
  {
   "cell_type": "code",
   "execution_count": 2,
   "metadata": {
    "dotnet_interactive": {
     "language": "csharp"
    },
    "polyglot_notebook": {
     "kernelName": "csharp"
    }
   },
   "outputs": [],
   "source": [
    "public class DevOpenSpacePlugin\n",
    "{\n",
    "    [KernelFunction, Description(\"Gibt die Anzahl der User bei der Veranstaltung zurück\")]\n",
    "    public int GetUsersCount()\n",
    "    {\n",
    "        return 120;\n",
    "    }\n",
    "}"
   ]
  },
  {
   "cell_type": "markdown",
   "metadata": {},
   "source": [
    "**Parameter**\n",
    "\n",
    "Um parameter zu beschreiben wird einfach des Description-Attribtue vor dem Parameter gesetzt"
   ]
  },
  {
   "cell_type": "code",
   "execution_count": 5,
   "metadata": {
    "dotnet_interactive": {
     "language": "csharp"
    },
    "polyglot_notebook": {
     "kernelName": "csharp"
    }
   },
   "outputs": [],
   "source": [
    "public class DevOpenSpacePlugin\n",
    "{\n",
    "    [KernelFunction, Description(\"Gibt den Twitter Handle des Users anhand des Usernamens zurück\")]\n",
    "    public string GetUsersTwitterHandle([Description(\"Der Username des Users\")] string input)\n",
    "    {\n",
    "        return $\"@{input}\";\n",
    "    }\n",
    "}"
   ]
  },
  {
   "cell_type": "markdown",
   "metadata": {},
   "source": [
    "Importieren wir unsere Native Function"
   ]
  },
  {
   "cell_type": "code",
   "execution_count": 9,
   "metadata": {
    "dotnet_interactive": {
     "language": "csharp"
    },
    "polyglot_notebook": {
     "kernelName": "csharp"
    }
   },
   "outputs": [],
   "source": [
    "#!import plugins/DevOpenspacePlugin/DevOpenSpacePlugin.cs\n",
    "\n",
    "kernel.Plugins.Clear();\n",
    "var devopenspaceplugin = kernel.ImportPluginFromType<DevOpenSpacePlugin>(\"DevOpenspacePlugin\");"
   ]
  },
  {
   "cell_type": "markdown",
   "metadata": {},
   "source": [
    "Stellen wir nun die Frage nach der Anzahl der User"
   ]
  },
  {
   "cell_type": "code",
   "execution_count": 10,
   "metadata": {
    "dotnet_interactive": {
     "language": "csharp"
    },
    "polyglot_notebook": {
     "kernelName": "csharp"
    }
   },
   "outputs": [
    {
     "name": "stdout",
     "output_type": "stream",
     "text": [
      "120\r\n"
     ]
    }
   ],
   "source": [
    "// Unsere Semantic Function aufrufen\n",
    "var result = await devopenspaceplugin[\"GetUsersCount\"]\n",
    "    .InvokeAsync(kernel);\n",
    "\n",
    "// Antwort ausgeben\n",
    "Console.WriteLine(result.GetValue<int>());"
   ]
  },
  {
   "cell_type": "markdown",
   "metadata": {},
   "source": [
    "Und dann stellen wir noch eine Frage zu einem User"
   ]
  },
  {
   "cell_type": "code",
   "execution_count": 14,
   "metadata": {
    "dotnet_interactive": {
     "language": "csharp"
    },
    "polyglot_notebook": {
     "kernelName": "csharp"
    }
   },
   "outputs": [
    {
     "name": "stdout",
     "output_type": "stream",
     "text": [
      "@Sia\r\n"
     ]
    }
   ],
   "source": [
    "// Unsere Semantic Function aufrufen\n",
    "var result = await devopenspaceplugin[\"GetUsersTwitterHandle\"]\n",
    "    .InvokeAsync(\"Sia\", kernel);\n",
    "\n",
    "// Antwort ausgeben\n",
    "Console.WriteLine(result.GetValue<string>());"
   ]
  }
 ],
 "metadata": {
  "kernelspec": {
   "display_name": ".NET (C#)",
   "language": "C#",
   "name": ".net-csharp"
  },
  "language_info": {
   "name": "polyglot-notebook"
  },
  "polyglot_notebook": {
   "kernelInfo": {
    "defaultKernelName": "csharp",
    "items": [
     {
      "aliases": [],
      "name": "csharp"
     }
    ]
   }
  }
 },
 "nbformat": 4,
 "nbformat_minor": 2
}
